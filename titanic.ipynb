{
 "cells": [
  {
   "cell_type": "code",
   "execution_count": 3,
   "id": "5686f551",
   "metadata": {},
   "outputs": [],
   "source": [
    "import pandas as pd\n",
    "import numpy as np\n",
    "import matplotlib.pyplot as plt\n",
    "\n",
    "df = pd.read_excel('titanic_data1.xlsx', usecols=['Id','вижив','клас','стать','вік','К-сть\\nдітей','Fare'])\n",
    "df.rename(columns={'К-сть\\nдітей':'к-сть_дітей'},inplace=True)"
   ]
  },
  {
   "cell_type": "code",
   "execution_count": 4,
   "id": "d8bdf150",
   "metadata": {
    "scrolled": true
   },
   "outputs": [
    {
     "data": {
      "text/html": [
       "<div>\n",
       "<style scoped>\n",
       "    .dataframe tbody tr th:only-of-type {\n",
       "        vertical-align: middle;\n",
       "    }\n",
       "\n",
       "    .dataframe tbody tr th {\n",
       "        vertical-align: top;\n",
       "    }\n",
       "\n",
       "    .dataframe thead th {\n",
       "        text-align: right;\n",
       "    }\n",
       "</style>\n",
       "<table border=\"1\" class=\"dataframe\">\n",
       "  <thead>\n",
       "    <tr style=\"text-align: right;\">\n",
       "      <th></th>\n",
       "      <th>Id</th>\n",
       "      <th>вижив</th>\n",
       "      <th>клас</th>\n",
       "      <th>стать</th>\n",
       "      <th>вік</th>\n",
       "      <th>к-сть_дітей</th>\n",
       "      <th>Fare</th>\n",
       "      <th>стать_binarize</th>\n",
       "    </tr>\n",
       "  </thead>\n",
       "  <tbody>\n",
       "    <tr>\n",
       "      <th>0</th>\n",
       "      <td>1</td>\n",
       "      <td>0</td>\n",
       "      <td>3</td>\n",
       "      <td>female</td>\n",
       "      <td>18</td>\n",
       "      <td>1</td>\n",
       "      <td>17.8000</td>\n",
       "      <td>1</td>\n",
       "    </tr>\n",
       "    <tr>\n",
       "      <th>1</th>\n",
       "      <td>2</td>\n",
       "      <td>0</td>\n",
       "      <td>3</td>\n",
       "      <td>male</td>\n",
       "      <td>37</td>\n",
       "      <td>4</td>\n",
       "      <td>39.6875</td>\n",
       "      <td>0</td>\n",
       "    </tr>\n",
       "    <tr>\n",
       "      <th>2</th>\n",
       "      <td>3</td>\n",
       "      <td>0</td>\n",
       "      <td>3</td>\n",
       "      <td>male</td>\n",
       "      <td>21</td>\n",
       "      <td>0</td>\n",
       "      <td>7.8000</td>\n",
       "      <td>0</td>\n",
       "    </tr>\n",
       "    <tr>\n",
       "      <th>3</th>\n",
       "      <td>4</td>\n",
       "      <td>1</td>\n",
       "      <td>1</td>\n",
       "      <td>female</td>\n",
       "      <td>49</td>\n",
       "      <td>1</td>\n",
       "      <td>76.7292</td>\n",
       "      <td>1</td>\n",
       "    </tr>\n",
       "    <tr>\n",
       "      <th>4</th>\n",
       "      <td>5</td>\n",
       "      <td>1</td>\n",
       "      <td>2</td>\n",
       "      <td>female</td>\n",
       "      <td>29</td>\n",
       "      <td>1</td>\n",
       "      <td>26.0000</td>\n",
       "      <td>1</td>\n",
       "    </tr>\n",
       "    <tr>\n",
       "      <th>5</th>\n",
       "      <td>6</td>\n",
       "      <td>0</td>\n",
       "      <td>1</td>\n",
       "      <td>male</td>\n",
       "      <td>65</td>\n",
       "      <td>0</td>\n",
       "      <td>61.9792</td>\n",
       "      <td>0</td>\n",
       "    </tr>\n",
       "    <tr>\n",
       "      <th>6</th>\n",
       "      <td>7</td>\n",
       "      <td>1</td>\n",
       "      <td>1</td>\n",
       "      <td>male</td>\n",
       "      <td>55</td>\n",
       "      <td>2</td>\n",
       "      <td>35.5000</td>\n",
       "      <td>0</td>\n",
       "    </tr>\n",
       "    <tr>\n",
       "      <th>7</th>\n",
       "      <td>8</td>\n",
       "      <td>1</td>\n",
       "      <td>2</td>\n",
       "      <td>female</td>\n",
       "      <td>21</td>\n",
       "      <td>0</td>\n",
       "      <td>10.5000</td>\n",
       "      <td>1</td>\n",
       "    </tr>\n",
       "    <tr>\n",
       "      <th>8</th>\n",
       "      <td>9</td>\n",
       "      <td>0</td>\n",
       "      <td>3</td>\n",
       "      <td>male</td>\n",
       "      <td>28</td>\n",
       "      <td>0</td>\n",
       "      <td>7.2292</td>\n",
       "      <td>0</td>\n",
       "    </tr>\n",
       "    <tr>\n",
       "      <th>9</th>\n",
       "      <td>10</td>\n",
       "      <td>1</td>\n",
       "      <td>2</td>\n",
       "      <td>female</td>\n",
       "      <td>21</td>\n",
       "      <td>1</td>\n",
       "      <td>27.7500</td>\n",
       "      <td>1</td>\n",
       "    </tr>\n",
       "    <tr>\n",
       "      <th>10</th>\n",
       "      <td>11</td>\n",
       "      <td>0</td>\n",
       "      <td>3</td>\n",
       "      <td>male</td>\n",
       "      <td>40</td>\n",
       "      <td>5</td>\n",
       "      <td>46.9000</td>\n",
       "      <td>0</td>\n",
       "    </tr>\n",
       "    <tr>\n",
       "      <th>11</th>\n",
       "      <td>12</td>\n",
       "      <td>0</td>\n",
       "      <td>3</td>\n",
       "      <td>male</td>\n",
       "      <td>22</td>\n",
       "      <td>0</td>\n",
       "      <td>7.2292</td>\n",
       "      <td>0</td>\n",
       "    </tr>\n",
       "    <tr>\n",
       "      <th>12</th>\n",
       "      <td>13</td>\n",
       "      <td>1</td>\n",
       "      <td>1</td>\n",
       "      <td>female</td>\n",
       "      <td>38</td>\n",
       "      <td>0</td>\n",
       "      <td>80.0000</td>\n",
       "      <td>1</td>\n",
       "    </tr>\n",
       "    <tr>\n",
       "      <th>13</th>\n",
       "      <td>14</td>\n",
       "      <td>0</td>\n",
       "      <td>1</td>\n",
       "      <td>male</td>\n",
       "      <td>45</td>\n",
       "      <td>1</td>\n",
       "      <td>83.4750</td>\n",
       "      <td>0</td>\n",
       "    </tr>\n",
       "    <tr>\n",
       "      <th>14</th>\n",
       "      <td>15</td>\n",
       "      <td>0</td>\n",
       "      <td>3</td>\n",
       "      <td>male</td>\n",
       "      <td>33</td>\n",
       "      <td>3</td>\n",
       "      <td>27.9000</td>\n",
       "      <td>0</td>\n",
       "    </tr>\n",
       "    <tr>\n",
       "      <th>15</th>\n",
       "      <td>16</td>\n",
       "      <td>0</td>\n",
       "      <td>1</td>\n",
       "      <td>male</td>\n",
       "      <td>55</td>\n",
       "      <td>0</td>\n",
       "      <td>27.7208</td>\n",
       "      <td>0</td>\n",
       "    </tr>\n",
       "    <tr>\n",
       "      <th>16</th>\n",
       "      <td>17</td>\n",
       "      <td>1</td>\n",
       "      <td>3</td>\n",
       "      <td>male</td>\n",
       "      <td>40</td>\n",
       "      <td>1</td>\n",
       "      <td>15.2458</td>\n",
       "      <td>0</td>\n",
       "    </tr>\n",
       "    <tr>\n",
       "      <th>17</th>\n",
       "      <td>18</td>\n",
       "      <td>1</td>\n",
       "      <td>2</td>\n",
       "      <td>female</td>\n",
       "      <td>29</td>\n",
       "      <td>0</td>\n",
       "      <td>10.5000</td>\n",
       "      <td>1</td>\n",
       "    </tr>\n",
       "    <tr>\n",
       "      <th>18</th>\n",
       "      <td>19</td>\n",
       "      <td>0</td>\n",
       "      <td>3</td>\n",
       "      <td>male</td>\n",
       "      <td>19</td>\n",
       "      <td>2</td>\n",
       "      <td>8.1583</td>\n",
       "      <td>0</td>\n",
       "    </tr>\n",
       "    <tr>\n",
       "      <th>19</th>\n",
       "      <td>20</td>\n",
       "      <td>1</td>\n",
       "      <td>3</td>\n",
       "      <td>female</td>\n",
       "      <td>17</td>\n",
       "      <td>4</td>\n",
       "      <td>7.9250</td>\n",
       "      <td>1</td>\n",
       "    </tr>\n",
       "    <tr>\n",
       "      <th>20</th>\n",
       "      <td>21</td>\n",
       "      <td>0</td>\n",
       "      <td>3</td>\n",
       "      <td>male</td>\n",
       "      <td>26</td>\n",
       "      <td>2</td>\n",
       "      <td>8.6625</td>\n",
       "      <td>0</td>\n",
       "    </tr>\n",
       "    <tr>\n",
       "      <th>21</th>\n",
       "      <td>22</td>\n",
       "      <td>0</td>\n",
       "      <td>2</td>\n",
       "      <td>male</td>\n",
       "      <td>32</td>\n",
       "      <td>0</td>\n",
       "      <td>10.5000</td>\n",
       "      <td>0</td>\n",
       "    </tr>\n",
       "    <tr>\n",
       "      <th>22</th>\n",
       "      <td>23</td>\n",
       "      <td>0</td>\n",
       "      <td>3</td>\n",
       "      <td>female</td>\n",
       "      <td>38</td>\n",
       "      <td>5</td>\n",
       "      <td>46.9000</td>\n",
       "      <td>1</td>\n",
       "    </tr>\n",
       "    <tr>\n",
       "      <th>23</th>\n",
       "      <td>24</td>\n",
       "      <td>0</td>\n",
       "      <td>2</td>\n",
       "      <td>male</td>\n",
       "      <td>21</td>\n",
       "      <td>0</td>\n",
       "      <td>73.5000</td>\n",
       "      <td>0</td>\n",
       "    </tr>\n",
       "    <tr>\n",
       "      <th>24</th>\n",
       "      <td>25</td>\n",
       "      <td>0</td>\n",
       "      <td>3</td>\n",
       "      <td>male</td>\n",
       "      <td>26</td>\n",
       "      <td>1</td>\n",
       "      <td>14.4542</td>\n",
       "      <td>0</td>\n",
       "    </tr>\n",
       "    <tr>\n",
       "      <th>25</th>\n",
       "      <td>26</td>\n",
       "      <td>1</td>\n",
       "      <td>3</td>\n",
       "      <td>male</td>\n",
       "      <td>32</td>\n",
       "      <td>0</td>\n",
       "      <td>56.4958</td>\n",
       "      <td>0</td>\n",
       "    </tr>\n",
       "    <tr>\n",
       "      <th>26</th>\n",
       "      <td>27</td>\n",
       "      <td>0</td>\n",
       "      <td>3</td>\n",
       "      <td>male</td>\n",
       "      <td>25</td>\n",
       "      <td>0</td>\n",
       "      <td>7.6500</td>\n",
       "      <td>0</td>\n",
       "    </tr>\n",
       "    <tr>\n",
       "      <th>27</th>\n",
       "      <td>28</td>\n",
       "      <td>1</td>\n",
       "      <td>3</td>\n",
       "      <td>male</td>\n",
       "      <td>30</td>\n",
       "      <td>0</td>\n",
       "      <td>7.8958</td>\n",
       "      <td>0</td>\n",
       "    </tr>\n",
       "    <tr>\n",
       "      <th>28</th>\n",
       "      <td>29</td>\n",
       "      <td>0</td>\n",
       "      <td>3</td>\n",
       "      <td>male</td>\n",
       "      <td>28</td>\n",
       "      <td>1</td>\n",
       "      <td>8.0500</td>\n",
       "      <td>0</td>\n",
       "    </tr>\n",
       "    <tr>\n",
       "      <th>29</th>\n",
       "      <td>30</td>\n",
       "      <td>1</td>\n",
       "      <td>2</td>\n",
       "      <td>male</td>\n",
       "      <td>30</td>\n",
       "      <td>0</td>\n",
       "      <td>29.0000</td>\n",
       "      <td>0</td>\n",
       "    </tr>\n",
       "    <tr>\n",
       "      <th>30</th>\n",
       "      <td>31</td>\n",
       "      <td>1</td>\n",
       "      <td>3</td>\n",
       "      <td>female</td>\n",
       "      <td>30</td>\n",
       "      <td>0</td>\n",
       "      <td>12.4750</td>\n",
       "      <td>1</td>\n",
       "    </tr>\n",
       "    <tr>\n",
       "      <th>31</th>\n",
       "      <td>32</td>\n",
       "      <td>0</td>\n",
       "      <td>3</td>\n",
       "      <td>male</td>\n",
       "      <td>22</td>\n",
       "      <td>0</td>\n",
       "      <td>9.0000</td>\n",
       "      <td>0</td>\n",
       "    </tr>\n",
       "    <tr>\n",
       "      <th>32</th>\n",
       "      <td>33</td>\n",
       "      <td>1</td>\n",
       "      <td>3</td>\n",
       "      <td>male</td>\n",
       "      <td>29</td>\n",
       "      <td>0</td>\n",
       "      <td>9.5000</td>\n",
       "      <td>0</td>\n",
       "    </tr>\n",
       "    <tr>\n",
       "      <th>33</th>\n",
       "      <td>34</td>\n",
       "      <td>1</td>\n",
       "      <td>3</td>\n",
       "      <td>female</td>\n",
       "      <td>20</td>\n",
       "      <td>0</td>\n",
       "      <td>7.7875</td>\n",
       "      <td>1</td>\n",
       "    </tr>\n",
       "    <tr>\n",
       "      <th>34</th>\n",
       "      <td>35</td>\n",
       "      <td>0</td>\n",
       "      <td>1</td>\n",
       "      <td>male</td>\n",
       "      <td>28</td>\n",
       "      <td>0</td>\n",
       "      <td>47.1000</td>\n",
       "      <td>0</td>\n",
       "    </tr>\n",
       "    <tr>\n",
       "      <th>35</th>\n",
       "      <td>36</td>\n",
       "      <td>1</td>\n",
       "      <td>2</td>\n",
       "      <td>female</td>\n",
       "      <td>17</td>\n",
       "      <td>0</td>\n",
       "      <td>10.5000</td>\n",
       "      <td>1</td>\n",
       "    </tr>\n",
       "    <tr>\n",
       "      <th>36</th>\n",
       "      <td>37</td>\n",
       "      <td>1</td>\n",
       "      <td>3</td>\n",
       "      <td>female</td>\n",
       "      <td>33</td>\n",
       "      <td>3</td>\n",
       "      <td>15.8500</td>\n",
       "      <td>1</td>\n",
       "    </tr>\n",
       "    <tr>\n",
       "      <th>37</th>\n",
       "      <td>38</td>\n",
       "      <td>0</td>\n",
       "      <td>3</td>\n",
       "      <td>male</td>\n",
       "      <td>16</td>\n",
       "      <td>1</td>\n",
       "      <td>34.3750</td>\n",
       "      <td>0</td>\n",
       "    </tr>\n",
       "    <tr>\n",
       "      <th>38</th>\n",
       "      <td>39</td>\n",
       "      <td>0</td>\n",
       "      <td>3</td>\n",
       "      <td>male</td>\n",
       "      <td>30</td>\n",
       "      <td>0</td>\n",
       "      <td>8.0500</td>\n",
       "      <td>0</td>\n",
       "    </tr>\n",
       "    <tr>\n",
       "      <th>39</th>\n",
       "      <td>40</td>\n",
       "      <td>1</td>\n",
       "      <td>1</td>\n",
       "      <td>female</td>\n",
       "      <td>23</td>\n",
       "      <td>3</td>\n",
       "      <td>76.7292</td>\n",
       "      <td>1</td>\n",
       "    </tr>\n",
       "    <tr>\n",
       "      <th>40</th>\n",
       "      <td>41</td>\n",
       "      <td>0</td>\n",
       "      <td>3</td>\n",
       "      <td>male</td>\n",
       "      <td>24</td>\n",
       "      <td>0</td>\n",
       "      <td>8.0500</td>\n",
       "      <td>0</td>\n",
       "    </tr>\n",
       "    <tr>\n",
       "      <th>41</th>\n",
       "      <td>42</td>\n",
       "      <td>0</td>\n",
       "      <td>3</td>\n",
       "      <td>male</td>\n",
       "      <td>29</td>\n",
       "      <td>0</td>\n",
       "      <td>8.0500</td>\n",
       "      <td>0</td>\n",
       "    </tr>\n",
       "    <tr>\n",
       "      <th>42</th>\n",
       "      <td>43</td>\n",
       "      <td>0</td>\n",
       "      <td>3</td>\n",
       "      <td>male</td>\n",
       "      <td>20</td>\n",
       "      <td>0</td>\n",
       "      <td>7.8542</td>\n",
       "      <td>0</td>\n",
       "    </tr>\n",
       "    <tr>\n",
       "      <th>43</th>\n",
       "      <td>44</td>\n",
       "      <td>1</td>\n",
       "      <td>1</td>\n",
       "      <td>male</td>\n",
       "      <td>46</td>\n",
       "      <td>1</td>\n",
       "      <td>61.1750</td>\n",
       "      <td>0</td>\n",
       "    </tr>\n",
       "    <tr>\n",
       "      <th>44</th>\n",
       "      <td>45</td>\n",
       "      <td>0</td>\n",
       "      <td>3</td>\n",
       "      <td>male</td>\n",
       "      <td>26</td>\n",
       "      <td>1</td>\n",
       "      <td>20.5750</td>\n",
       "      <td>0</td>\n",
       "    </tr>\n",
       "    <tr>\n",
       "      <th>45</th>\n",
       "      <td>46</td>\n",
       "      <td>0</td>\n",
       "      <td>3</td>\n",
       "      <td>male</td>\n",
       "      <td>59</td>\n",
       "      <td>0</td>\n",
       "      <td>7.2500</td>\n",
       "      <td>0</td>\n",
       "    </tr>\n",
       "    <tr>\n",
       "      <th>46</th>\n",
       "      <td>47</td>\n",
       "      <td>0</td>\n",
       "      <td>3</td>\n",
       "      <td>male</td>\n",
       "      <td>26</td>\n",
       "      <td>0</td>\n",
       "      <td>8.0500</td>\n",
       "      <td>0</td>\n",
       "    </tr>\n",
       "    <tr>\n",
       "      <th>47</th>\n",
       "      <td>48</td>\n",
       "      <td>0</td>\n",
       "      <td>1</td>\n",
       "      <td>male</td>\n",
       "      <td>71</td>\n",
       "      <td>0</td>\n",
       "      <td>34.6542</td>\n",
       "      <td>0</td>\n",
       "    </tr>\n",
       "    <tr>\n",
       "      <th>48</th>\n",
       "      <td>49</td>\n",
       "      <td>1</td>\n",
       "      <td>1</td>\n",
       "      <td>male</td>\n",
       "      <td>23</td>\n",
       "      <td>0</td>\n",
       "      <td>63.3583</td>\n",
       "      <td>0</td>\n",
       "    </tr>\n",
       "  </tbody>\n",
       "</table>\n",
       "</div>"
      ],
      "text/plain": [
       "    Id  вижив  клас   стать  вік  к-сть_дітей     Fare  стать_binarize\n",
       "0    1      0     3  female   18            1  17.8000               1\n",
       "1    2      0     3    male   37            4  39.6875               0\n",
       "2    3      0     3    male   21            0   7.8000               0\n",
       "3    4      1     1  female   49            1  76.7292               1\n",
       "4    5      1     2  female   29            1  26.0000               1\n",
       "5    6      0     1    male   65            0  61.9792               0\n",
       "6    7      1     1    male   55            2  35.5000               0\n",
       "7    8      1     2  female   21            0  10.5000               1\n",
       "8    9      0     3    male   28            0   7.2292               0\n",
       "9   10      1     2  female   21            1  27.7500               1\n",
       "10  11      0     3    male   40            5  46.9000               0\n",
       "11  12      0     3    male   22            0   7.2292               0\n",
       "12  13      1     1  female   38            0  80.0000               1\n",
       "13  14      0     1    male   45            1  83.4750               0\n",
       "14  15      0     3    male   33            3  27.9000               0\n",
       "15  16      0     1    male   55            0  27.7208               0\n",
       "16  17      1     3    male   40            1  15.2458               0\n",
       "17  18      1     2  female   29            0  10.5000               1\n",
       "18  19      0     3    male   19            2   8.1583               0\n",
       "19  20      1     3  female   17            4   7.9250               1\n",
       "20  21      0     3    male   26            2   8.6625               0\n",
       "21  22      0     2    male   32            0  10.5000               0\n",
       "22  23      0     3  female   38            5  46.9000               1\n",
       "23  24      0     2    male   21            0  73.5000               0\n",
       "24  25      0     3    male   26            1  14.4542               0\n",
       "25  26      1     3    male   32            0  56.4958               0\n",
       "26  27      0     3    male   25            0   7.6500               0\n",
       "27  28      1     3    male   30            0   7.8958               0\n",
       "28  29      0     3    male   28            1   8.0500               0\n",
       "29  30      1     2    male   30            0  29.0000               0\n",
       "30  31      1     3  female   30            0  12.4750               1\n",
       "31  32      0     3    male   22            0   9.0000               0\n",
       "32  33      1     3    male   29            0   9.5000               0\n",
       "33  34      1     3  female   20            0   7.7875               1\n",
       "34  35      0     1    male   28            0  47.1000               0\n",
       "35  36      1     2  female   17            0  10.5000               1\n",
       "36  37      1     3  female   33            3  15.8500               1\n",
       "37  38      0     3    male   16            1  34.3750               0\n",
       "38  39      0     3    male   30            0   8.0500               0\n",
       "39  40      1     1  female   23            3  76.7292               1\n",
       "40  41      0     3    male   24            0   8.0500               0\n",
       "41  42      0     3    male   29            0   8.0500               0\n",
       "42  43      0     3    male   20            0   7.8542               0\n",
       "43  44      1     1    male   46            1  61.1750               0\n",
       "44  45      0     3    male   26            1  20.5750               0\n",
       "45  46      0     3    male   59            0   7.2500               0\n",
       "46  47      0     3    male   26            0   8.0500               0\n",
       "47  48      0     1    male   71            0  34.6542               0\n",
       "48  49      1     1    male   23            0  63.3583               0"
      ]
     },
     "execution_count": 4,
     "metadata": {},
     "output_type": "execute_result"
    }
   ],
   "source": [
    "df['стать_binarize'] = df.стать.map({'female': 1, 'male': 0})\n",
    "df"
   ]
  },
  {
   "cell_type": "code",
   "execution_count": 5,
   "id": "ebc50d52",
   "metadata": {},
   "outputs": [],
   "source": [
    "features = ['клас', 'стать_binarize', 'вік', 'к-сть_дітей', 'Fare']\n",
    "X = df[features].to_numpy()\n",
    "Y = df['вижив'].to_numpy()"
   ]
  },
  {
   "cell_type": "code",
   "execution_count": 6,
   "id": "9f233e85",
   "metadata": {},
   "outputs": [
    {
     "data": {
      "text/plain": [
       "array([ 6.20821083e-01, -1.26336286e-01,  6.13792337e-01, -1.68437210e-03,\n",
       "       -4.06127757e-02,  1.13685089e-04])"
      ]
     },
     "execution_count": 6,
     "metadata": {},
     "output_type": "execute_result"
    }
   ],
   "source": [
    "F = np.insert(X, 0, 1, axis=1)\n",
    "least_squares_value = np.dot(np.dot(np.linalg.inv(np.dot(F.T, F)), F.T), Y)\n",
    "least_squares_value"
   ]
  },
  {
   "cell_type": "code",
   "execution_count": 7,
   "id": "5ad1219c",
   "metadata": {},
   "outputs": [],
   "source": [
    "Y_pred = np.dot(F, least_squares_value)"
   ]
  },
  {
   "cell_type": "code",
   "execution_count": 8,
   "id": "1958ca08",
   "metadata": {},
   "outputs": [
    {
     "name": "stdout",
     "output_type": "stream",
     "text": [
      "Коефіцієнт детермінації: 0.3940402713388441 \n",
      "\n"
     ]
    }
   ],
   "source": [
    "R2 = 1 - np.sum((Y_pred - Y) ** 2) / np.sum((np.mean(Y) - Y)**2)\n",
    "print(\"Коефіцієнт детермінації:\", R2, \"\\n\")"
   ]
  },
  {
   "cell_type": "code",
   "execution_count": 33,
   "id": "d69852ce",
   "metadata": {},
   "outputs": [
    {
     "data": {
      "text/plain": [
       "array([0.6871216 , 0.5053876 , 0.55164692, 0.72984831, 0.71001092,\n",
       "       0.59677531, 0.58045819, 0.72066502, 0.54871291, 0.71281822,\n",
       "       0.49417659, 0.55121423, 0.7414207 , 0.59569642, 0.51688394,\n",
       "       0.59988735, 0.53383765, 0.71794437, 0.53233259, 0.66047688,\n",
       "       0.52941046, 0.57821311, 0.64425178, 0.58446561, 0.53967864,\n",
       "       0.54843144, 0.54997572, 0.54789735, 0.53866073, 0.57954704,\n",
       "       0.69136139, 0.55126403, 0.54835971, 0.6948309 , 0.61127551,\n",
       "       0.72201931, 0.6637351 , 0.54442192, 0.54790169, 0.7224047 ,\n",
       "       0.55040383, 0.54831889, 0.55206501, 0.59467976, 0.5398515 ,\n",
       "       0.5357535 , 0.54957006, 0.59359186, 0.61371308])"
      ]
     },
     "execution_count": 33,
     "metadata": {},
     "output_type": "execute_result"
    }
   ],
   "source": [
    "posibility = 1 / (1 + np.exp(-Y_pred))\n",
    "posibility"
   ]
  },
  {
   "cell_type": "code",
   "execution_count": 10,
   "id": "199eb005",
   "metadata": {},
   "outputs": [],
   "source": [
    "order = np.argsort(posibility)"
   ]
  },
  {
   "cell_type": "code",
   "execution_count": 11,
   "id": "33c76574",
   "metadata": {},
   "outputs": [],
   "source": [
    "n = len(Y)\n",
    "points_x = np.array([])\n",
    "points_y = np.array([])\n",
    "points_x = np.append(points_x, 0)\n",
    "points_y = np.append(points_y, 0)\n",
    "for i in range(n):\n",
    "    if((posibility[i] > 0.5) == (Y[i] == 1)):\n",
    "        points_x = np.append(points_x, points_x[i])\n",
    "        points_y = np.append(points_y, points_y[i]+1)\n",
    "    else:\n",
    "        points_x = np.append(points_x, points_x[i]+1)\n",
    "        points_y = np.append(points_y, points_y[i])\n",
    "points_x = (points_x-points_x.min())/(points_x.max()-points_x.min())\n",
    "points_y = (points_y-points_y.min())/(points_y.max()-points_y.min())"
   ]
  },
  {
   "cell_type": "code",
   "execution_count": 12,
   "id": "841ce644",
   "metadata": {},
   "outputs": [
    {
     "data": {
      "text/plain": [
       "[<matplotlib.lines.Line2D at 0x274b0cfe160>]"
      ]
     },
     "execution_count": 12,
     "metadata": {},
     "output_type": "execute_result"
    },
    {
     "data": {
      "image/png": "[encoded data removed]",
      "text/plain": [
       "<Figure size 432x288 with 1 Axes>"
      ]
     },
     "metadata": {
      "needs_background": "light"
     },
     "output_type": "display_data"
    }
   ],
   "source": [
    "plt.plot(points_x, points_y)\n",
    "plt.plot([0,1],[0,1])"
   ]
  },
  {
   "cell_type": "code",
   "execution_count": 13,
   "id": "3efa4ae2",
   "metadata": {},
   "outputs": [
    {
     "name": "stdout",
     "output_type": "stream",
     "text": [
      "0.5408163265306123\n"
     ]
    }
   ],
   "source": [
    "AUC = 0\n",
    "for i in range(n):\n",
    "    AUC += (points_x[i+1]-points_x[i])*(points_y[i])\n",
    "print(AUC)"
   ]
  },
  {
   "cell_type": "code",
   "execution_count": 14,
   "id": "80d4bcac",
   "metadata": {},
   "outputs": [],
   "source": [
    "thresholds = np.linspace(0,1,n)\n",
    "max_auc = 0\n",
    "better_thresholds = 0\n",
    "for i in thresholds:\n",
    "    points_x = np.array([])\n",
    "    points_y = np.array([])\n",
    "    points_x = np.append(points_x, 0)\n",
    "    points_y = np.append(points_y, 0)\n",
    "    for j in range(n):\n",
    "        if((posibility[j] > i) == (Y[j] == 1)):\n",
    "            points_x = np.append(points_x, points_x[j])\n",
    "            points_y = np.append(points_y, points_y[j]+1)\n",
    "        else:\n",
    "            points_x = np.append(points_x, points_x[j]+1)\n",
    "            points_y = np.append(points_y, points_y[j])\n",
    "    points_x = (points_x-points_x.min())/(points_x.max()-points_x.min())\n",
    "    points_y = (points_y-points_y.min())/(points_y.max()-points_y.min())\n",
    "    AUC = 0\n",
    "    for j in range(n):\n",
    "        AUC += (points_x[j+1]-points_x[j])*(points_y[j+1])\n",
    "    if(abs(AUC) > max_auc):\n",
    "        max_auc = abs(AUC)\n",
    "        better_thresholds = i"
   ]
  },
  {
   "cell_type": "code",
   "execution_count": 15,
   "id": "5b651751",
   "metadata": {},
   "outputs": [
    {
     "data": {
      "text/plain": [
       "0.7083333333333333"
      ]
     },
     "execution_count": 15,
     "metadata": {},
     "output_type": "execute_result"
    }
   ],
   "source": [
    "better_thresholds"
   ]
  },
  {
   "cell_type": "code",
   "execution_count": 16,
   "id": "61263596",
   "metadata": {},
   "outputs": [],
   "source": [
    "n = len(Y)\n",
    "points_x = np.array([])\n",
    "points_y = np.array([])\n",
    "points_x = np.append(points_x, 0)\n",
    "points_y = np.append(points_y, 0)\n",
    "for i in range(n):\n",
    "    if((posibility[i] > better_thresholds) == (Y[i] == 1)):\n",
    "        points_x = np.append(points_x, points_x[i])\n",
    "        points_y = np.append(points_y, points_y[i]+1)\n",
    "    else:\n",
    "        points_x = np.append(points_x, points_x[i]+1)\n",
    "        points_y = np.append(points_y, points_y[i])\n",
    "points_x = (points_x-points_x.min())/(points_x.max()-points_x.min())\n",
    "points_y = (points_y-points_y.min())/(points_y.max()-points_y.min())"
   ]
  },
  {
   "cell_type": "code",
   "execution_count": 25,
   "id": "381d7ad7",
   "metadata": {},
   "outputs": [
    {
     "data": {
      "text/plain": [
       "[<matplotlib.lines.Line2D at 0x274b22702e0>]"
      ]
     },
     "execution_count": 25,
     "metadata": {},
     "output_type": "execute_result"
    },
    {
     "data": {
      "image/png": "[encoded data removed]",
      "text/plain": [
       "<Figure size 432x288 with 1 Axes>"
      ]
     },
     "metadata": {
      "needs_background": "light"
     },
     "output_type": "display_data"
    }
   ],
   "source": [
    "plt.plot(points_x, points_y)\n",
    "plt.plot([0,1],[0,1])"
   ]
  },
  {
   "cell_type": "code",
   "execution_count": 26,
   "id": "5fd7a86c",
   "metadata": {},
   "outputs": [
    {
     "name": "stdout",
     "output_type": "stream",
     "text": [
      "0.6261261261261262\n"
     ]
    }
   ],
   "source": [
    "AUC = 0\n",
    "for i in range(n):\n",
    "    AUC += (points_x[i+1]-points_x[i])*(points_y[i])\n",
    "print(AUC)"
   ]
  },
  {
   "cell_type": "code",
   "execution_count": 27,
   "id": "affdfcac",
   "metadata": {},
   "outputs": [
    {
     "data": {
      "text/plain": [
       "16.428333333333335"
      ]
     },
     "execution_count": 27,
     "metadata": {},
     "output_type": "execute_result"
    }
   ],
   "source": [
    "classFare = df[['клас', 'Fare']].to_numpy()\n",
    "Fare3 = np.array([])\n",
    "for i in range(n):\n",
    "    if classFare[i][0] == 3.0:\n",
    "        Fare3 = np.append(Fare3, classFare[i][1])\n",
    "meanFare = Fare3.mean()\n",
    "meanFare"
   ]
  },
  {
   "cell_type": "code",
   "execution_count": 28,
   "id": "f55a28db",
   "metadata": {},
   "outputs": [],
   "source": [
    "X_test1 = np.array([1, 3, 1, 25, 0, meanFare])       "
   ]
  },
  {
   "cell_type": "code",
   "execution_count": 29,
   "id": "1e85601f",
   "metadata": {},
   "outputs": [
    {
     "data": {
      "text/plain": [
       "0.6932511305074461"
      ]
     },
     "execution_count": 29,
     "metadata": {},
     "output_type": "execute_result"
    }
   ],
   "source": [
    "test1 = 1 / (1 + np.exp(-np.dot(X_test1, least_squares_value)))\n",
    "test1"
   ]
  },
  {
   "cell_type": "code",
   "execution_count": 30,
   "id": "d56712d0",
   "metadata": {},
   "outputs": [],
   "source": [
    "X_test2 = np.array([1, 3, 1, 25, 1, meanFare])"
   ]
  },
  {
   "cell_type": "code",
   "execution_count": 31,
   "id": "df40b0e0",
   "metadata": {},
   "outputs": [
    {
     "data": {
      "text/plain": [
       "0.684547547783276"
      ]
     },
     "execution_count": 31,
     "metadata": {},
     "output_type": "execute_result"
    }
   ],
   "source": [
    "test2 = 1 / (1 + np.exp(-np.dot(X_test2, least_squares_value)))\n",
    "test2"
   ]
  },
  {
   "cell_type": "code",
   "execution_count": 32,
   "id": "59b79f94",
   "metadata": {
    "scrolled": true
   },
   "outputs": [
    {
     "name": "stderr",
     "output_type": "stream",
     "text": [
      "C:\\Users\\User\\anaconda3\\lib\\site-packages\\sklearn\\utils\\deprecation.py:87: FutureWarning: Function plot_roc_curve is deprecated; Function :func:`plot_roc_curve` is deprecated in 1.0 and will be removed in 1.2. Use one of the class methods: :meth:`sklearn.metric.RocCurveDisplay.from_predictions` or :meth:`sklearn.metric.RocCurveDisplay.from_estimator`.\n",
      "  warnings.warn(msg, category=FutureWarning)\n"
     ]
    },
    {
     "data": {
      "image/png": "[encoded data removed]",
      "text/plain": [
       "<Figure size 432x288 with 1 Axes>"
      ]
     },
     "metadata": {
      "needs_background": "light"
     },
     "output_type": "display_data"
    }
   ],
   "source": [
    "from sklearn.linear_model import LogisticRegression\n",
    "from sklearn.model_selection import train_test_split\n",
    "import matplotlib.pyplot as plt\n",
    "from sklearn.metrics import plot_roc_curve\n",
    "\n",
    "X_train, X_test, y_train, y_test = train_test_split(df[features], df['вижив'], \n",
    "                                                    test_size=0.33, random_state=42)\n",
    "\n",
    "clf = LogisticRegression()\n",
    "clf.fit(X_train,y_train)\n",
    "\n",
    "plot_roc_curve(clf, X_test, y_test) \n",
    "plt.plot([0,1],[0,1])\n",
    "plt.show()"
   ]
  },
  {
   "cell_type": "code",
   "execution_count": null,
   "id": "a2f227c7",
   "metadata": {},
   "outputs": [],
   "source": []
  }
 ],
 "metadata": {
  "kernelspec": {
   "display_name": "Python 3 (ipykernel)",
   "language": "python",
   "name": "python3"
  },
  "language_info": {
   "codemirror_mode": {
    "name": "ipython",
    "version": 3
   },
   "file_extension": ".py",
   "mimetype": "text/x-python",
   "name": "python",
   "nbconvert_exporter": "python",
   "pygments_lexer": "ipython3",
   "version": "3.9.7"
  }
 },
 "nbformat": 4,
 "nbformat_minor": 5
}
